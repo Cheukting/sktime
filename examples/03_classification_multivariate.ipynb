{
 "cells": [
  {
   "cell_type": "markdown",
   "metadata": {},
   "source": [
    "# Multivariate time series classification with sktime\n",
    "\n",
    "In this notebook, we will use sktime for multivariate time series classification.\n",
    "\n",
    "For the simpler univariate time series classification setting, take a look at this [notebook](https://github.com/alan-turing-institute/sktime/blob/master/examples/01_classification_univariate.ipynb)."
   ]
  },
  {
   "cell_type": "markdown",
   "metadata": {},
   "source": [
    "### Preliminaries"
   ]
  },
  {
   "cell_type": "code",
   "execution_count": 1,
   "metadata": {
    "pycharm": {
     "is_executing": false
    }
   },
   "outputs": [],
   "source": [
    "import numpy as np\n",
    "from sklearn.pipeline import Pipeline\n",
    "from sktime.classification.compose import ColumnEnsembleClassifier\n",
    "from sktime.classification.compose import TimeSeriesForestClassifier\n",
    "from sktime.classification.dictionary_based import BOSSEnsemble\n",
    "from sktime.classification.shapelet_based import MrSEQLClassifier\n",
    "from sktime.datasets import load_basic_motions\n",
    "from sktime.transformers.series_as_features.compose import ColumnConcatenator\n",
    "from sklearn.model_selection import train_test_split"
   ]
  },
  {
   "cell_type": "markdown",
   "metadata": {},
   "source": [
    "### Load multivariate time series/panel data\n",
    "\n",
    "The [data set](http://www.timeseriesclassification.com/description.php?Dataset=BasicMotions) we use in this notebook was generated as part of a student project where four students performed four activities whilst wearing a smart watch. The watch collects 3D accelerometer and a 3D gyroscope It consists of four classes, which are walking, resting, running and badminton. Participants were required to record motion a total of five times, and the data is sampled once every tenth of a second, for a ten second period."
   ]
  },
  {
   "cell_type": "code",
   "execution_count": 2,
   "metadata": {},
   "outputs": [
    {
     "name": "stdout",
     "output_type": "stream",
     "text": [
      "(60, 6) (60,) (20, 6) (20,)\n"
     ]
    }
   ],
   "source": [
    "X, y = load_basic_motions(return_X_y=True)\n",
    "X_train, X_test, y_train, y_test = train_test_split(X, y)\n",
    "print(X_train.shape, y_train.shape, X_test.shape, y_test.shape)"
   ]
  },
  {
   "cell_type": "code",
   "execution_count": 3,
   "metadata": {},
   "outputs": [
    {
     "data": {
      "text/html": [
       "<div>\n",
       "<style scoped>\n",
       "    .dataframe tbody tr th:only-of-type {\n",
       "        vertical-align: middle;\n",
       "    }\n",
       "\n",
       "    .dataframe tbody tr th {\n",
       "        vertical-align: top;\n",
       "    }\n",
       "\n",
       "    .dataframe thead th {\n",
       "        text-align: right;\n",
       "    }\n",
       "</style>\n",
       "<table border=\"1\" class=\"dataframe\">\n",
       "  <thead>\n",
       "    <tr style=\"text-align: right;\">\n",
       "      <th></th>\n",
       "      <th>dim_0</th>\n",
       "      <th>dim_1</th>\n",
       "      <th>dim_2</th>\n",
       "      <th>dim_3</th>\n",
       "      <th>dim_4</th>\n",
       "      <th>dim_5</th>\n",
       "    </tr>\n",
       "  </thead>\n",
       "  <tbody>\n",
       "    <tr>\n",
       "      <th>22</th>\n",
       "      <td>0     0.175924\n",
       "1     0.175924\n",
       "2     0.194403\n",
       "3...</td>\n",
       "      <td>0     0.548757\n",
       "1     0.548757\n",
       "2    -3.699192\n",
       "3...</td>\n",
       "      <td>0    -1.191314\n",
       "1    -1.191314\n",
       "2    -0.554051\n",
       "3...</td>\n",
       "      <td>0     0.039951\n",
       "1     0.039951\n",
       "2     0.042614\n",
       "3...</td>\n",
       "      <td>0     0.263674\n",
       "1     0.263674\n",
       "2    -0.178446\n",
       "3...</td>\n",
       "      <td>0     0.937507\n",
       "1     0.937507\n",
       "2     0.071911\n",
       "3...</td>\n",
       "    </tr>\n",
       "    <tr>\n",
       "      <th>32</th>\n",
       "      <td>0     -0.592124\n",
       "1     -0.592124\n",
       "2      0.33036...</td>\n",
       "      <td>0     -0.392740\n",
       "1     -0.392740\n",
       "2      0.14477...</td>\n",
       "      <td>0     -1.411327\n",
       "1     -1.411327\n",
       "2     -0.98216...</td>\n",
       "      <td>0    -0.306288\n",
       "1    -0.306288\n",
       "2    -0.133169\n",
       "3...</td>\n",
       "      <td>0     0.354229\n",
       "1     0.354229\n",
       "2     0.221060\n",
       "3...</td>\n",
       "      <td>0    -0.143822\n",
       "1    -0.143822\n",
       "2     0.213070\n",
       "3...</td>\n",
       "    </tr>\n",
       "    <tr>\n",
       "      <th>5</th>\n",
       "      <td>0    -0.357300\n",
       "1    -0.357300\n",
       "2    -0.005055\n",
       "3...</td>\n",
       "      <td>0    -0.584885\n",
       "1    -0.584885\n",
       "2     0.295037\n",
       "3...</td>\n",
       "      <td>0    -0.792751\n",
       "1    -0.792751\n",
       "2     0.213664\n",
       "3...</td>\n",
       "      <td>0     0.074574\n",
       "1     0.074574\n",
       "2    -0.157139\n",
       "3...</td>\n",
       "      <td>0     0.159802\n",
       "1     0.159802\n",
       "2    -0.306288\n",
       "3...</td>\n",
       "      <td>0     0.023970\n",
       "1     0.023970\n",
       "2     1.230478\n",
       "3...</td>\n",
       "    </tr>\n",
       "    <tr>\n",
       "      <th>30</th>\n",
       "      <td>0     -0.771623\n",
       "1     -0.771623\n",
       "2     -2.32382...</td>\n",
       "      <td>0      0.372042\n",
       "1      0.372042\n",
       "2     -0.29603...</td>\n",
       "      <td>0     -0.145753\n",
       "1     -0.145753\n",
       "2      1.71501...</td>\n",
       "      <td>0    -0.031960\n",
       "1    -0.031960\n",
       "2     0.383526\n",
       "3...</td>\n",
       "      <td>0     0.167792\n",
       "1     0.167792\n",
       "2     0.229050\n",
       "3...</td>\n",
       "      <td>0     -0.362219\n",
       "1     -0.362219\n",
       "2     -0.23970...</td>\n",
       "    </tr>\n",
       "    <tr>\n",
       "      <th>14</th>\n",
       "      <td>0     -0.947424\n",
       "1     -0.947424\n",
       "2     14.53912...</td>\n",
       "      <td>0      0.572681\n",
       "1      0.572681\n",
       "2    -10.32130...</td>\n",
       "      <td>0    -0.529822\n",
       "1    -0.529822\n",
       "2    -4.144042\n",
       "3...</td>\n",
       "      <td>0    -0.098545\n",
       "1    -0.098545\n",
       "2     2.138688\n",
       "3...</td>\n",
       "      <td>0     0.596595\n",
       "1     0.596595\n",
       "2    -1.259775\n",
       "3...</td>\n",
       "      <td>0      0.772378\n",
       "1      0.772378\n",
       "2      7.21774...</td>\n",
       "    </tr>\n",
       "  </tbody>\n",
       "</table>\n",
       "</div>"
      ],
      "text/plain": [
       "                                                dim_0  \\\n",
       "22  0     0.175924\n",
       "1     0.175924\n",
       "2     0.194403\n",
       "3...   \n",
       "32  0     -0.592124\n",
       "1     -0.592124\n",
       "2      0.33036...   \n",
       "5   0    -0.357300\n",
       "1    -0.357300\n",
       "2    -0.005055\n",
       "3...   \n",
       "30  0     -0.771623\n",
       "1     -0.771623\n",
       "2     -2.32382...   \n",
       "14  0     -0.947424\n",
       "1     -0.947424\n",
       "2     14.53912...   \n",
       "\n",
       "                                                dim_1  \\\n",
       "22  0     0.548757\n",
       "1     0.548757\n",
       "2    -3.699192\n",
       "3...   \n",
       "32  0     -0.392740\n",
       "1     -0.392740\n",
       "2      0.14477...   \n",
       "5   0    -0.584885\n",
       "1    -0.584885\n",
       "2     0.295037\n",
       "3...   \n",
       "30  0      0.372042\n",
       "1      0.372042\n",
       "2     -0.29603...   \n",
       "14  0      0.572681\n",
       "1      0.572681\n",
       "2    -10.32130...   \n",
       "\n",
       "                                                dim_2  \\\n",
       "22  0    -1.191314\n",
       "1    -1.191314\n",
       "2    -0.554051\n",
       "3...   \n",
       "32  0     -1.411327\n",
       "1     -1.411327\n",
       "2     -0.98216...   \n",
       "5   0    -0.792751\n",
       "1    -0.792751\n",
       "2     0.213664\n",
       "3...   \n",
       "30  0     -0.145753\n",
       "1     -0.145753\n",
       "2      1.71501...   \n",
       "14  0    -0.529822\n",
       "1    -0.529822\n",
       "2    -4.144042\n",
       "3...   \n",
       "\n",
       "                                                dim_3  \\\n",
       "22  0     0.039951\n",
       "1     0.039951\n",
       "2     0.042614\n",
       "3...   \n",
       "32  0    -0.306288\n",
       "1    -0.306288\n",
       "2    -0.133169\n",
       "3...   \n",
       "5   0     0.074574\n",
       "1     0.074574\n",
       "2    -0.157139\n",
       "3...   \n",
       "30  0    -0.031960\n",
       "1    -0.031960\n",
       "2     0.383526\n",
       "3...   \n",
       "14  0    -0.098545\n",
       "1    -0.098545\n",
       "2     2.138688\n",
       "3...   \n",
       "\n",
       "                                                dim_4  \\\n",
       "22  0     0.263674\n",
       "1     0.263674\n",
       "2    -0.178446\n",
       "3...   \n",
       "32  0     0.354229\n",
       "1     0.354229\n",
       "2     0.221060\n",
       "3...   \n",
       "5   0     0.159802\n",
       "1     0.159802\n",
       "2    -0.306288\n",
       "3...   \n",
       "30  0     0.167792\n",
       "1     0.167792\n",
       "2     0.229050\n",
       "3...   \n",
       "14  0     0.596595\n",
       "1     0.596595\n",
       "2    -1.259775\n",
       "3...   \n",
       "\n",
       "                                                dim_5  \n",
       "22  0     0.937507\n",
       "1     0.937507\n",
       "2     0.071911\n",
       "3...  \n",
       "32  0    -0.143822\n",
       "1    -0.143822\n",
       "2     0.213070\n",
       "3...  \n",
       "5   0     0.023970\n",
       "1     0.023970\n",
       "2     1.230478\n",
       "3...  \n",
       "30  0     -0.362219\n",
       "1     -0.362219\n",
       "2     -0.23970...  \n",
       "14  0      0.772378\n",
       "1      0.772378\n",
       "2      7.21774...  "
      ]
     },
     "execution_count": 3,
     "metadata": {},
     "output_type": "execute_result"
    }
   ],
   "source": [
    "# multivariate input data\n",
    "X_train.head()"
   ]
  },
  {
   "cell_type": "code",
   "execution_count": 4,
   "metadata": {},
   "outputs": [
    {
     "data": {
      "text/plain": [
       "array(['badminton', 'running', 'standing', 'walking'], dtype=object)"
      ]
     },
     "execution_count": 4,
     "metadata": {},
     "output_type": "execute_result"
    }
   ],
   "source": [
    "# multi-class target variable\n",
    "np.unique(y_train)"
   ]
  },
  {
   "cell_type": "markdown",
   "metadata": {},
   "source": [
    "## Multivariate classification\n",
    "`sktime` offers three main ways of solving multivariate time series classification problems:\n",
    "\n",
    "1. _Concatenation_ of time series columns into a single long time series column via `ColumnConcatenator` and apply a classifier to the concatenated data,\n",
    "2. _Column-wise ensembling_ via `ColumnEnsembleClassifier` in which one classifier is fitted for each time series column and their predictions aggregated,\n",
    "3. _Bespoke estimator-specific methods_ for handling multivariate time series data, e.g. finding shapelets in multidimensional spaces (still work in progress)."
   ]
  },
  {
   "cell_type": "markdown",
   "metadata": {},
   "source": [
    "### Time series concatenation\n",
    "We can concatenate multivariate time series/panel data into long univiariate time series/panel and then apply a classifier to the univariate data."
   ]
  },
  {
   "cell_type": "code",
   "execution_count": 5,
   "metadata": {},
   "outputs": [
    {
     "data": {
      "text/plain": [
       "1.0"
      ]
     },
     "execution_count": 5,
     "metadata": {},
     "output_type": "execute_result"
    }
   ],
   "source": [
    "steps = [\n",
    "    ('concatenate', ColumnConcatenator()),\n",
    "    ('classify', TimeSeriesForestClassifier(n_estimators=100))]\n",
    "clf = Pipeline(steps)\n",
    "clf.fit(X_train, y_train)\n",
    "clf.score(X_test, y_test)"
   ]
  },
  {
   "cell_type": "markdown",
   "metadata": {},
   "source": [
    "### Column ensembling\n",
    "We can also fit one classifier for each time series column and then aggregated their predictions. The interface is similar to the familiar `ColumnTransformer` from sklearn."
   ]
  },
  {
   "cell_type": "code",
   "execution_count": 6,
   "metadata": {},
   "outputs": [
    {
     "data": {
      "text/plain": [
       "0.6"
      ]
     },
     "execution_count": 6,
     "metadata": {},
     "output_type": "execute_result"
    }
   ],
   "source": [
    "clf = ColumnEnsembleClassifier(estimators=[\n",
    "    (\"TSF0\", TimeSeriesForestClassifier(n_estimators=100), [0]),\n",
    "    (\"BOSSEnsemble3\", BOSSEnsemble(max_ensemble_size=5), [3]),\n",
    "])\n",
    "clf.fit(X_train, y_train)\n",
    "clf.score(X_test, y_test)"
   ]
  },
  {
   "cell_type": "markdown",
   "metadata": {},
   "source": [
    "### Bespoke classification algorithms\n",
    "Another approach is to use bespoke (or classifier-specific) methods for multivariate time series data. Here, we try out the MrSEQL algorithm  in multidimensional space."
   ]
  },
  {
   "cell_type": "code",
   "execution_count": 7,
   "metadata": {},
   "outputs": [
    {
     "data": {
      "text/plain": [
       "0.95"
      ]
     },
     "execution_count": 7,
     "metadata": {},
     "output_type": "execute_result"
    }
   ],
   "source": [
    "clf = MrSEQLClassifier()\n",
    "clf.fit(X_train, y_train)\n",
    "clf.score(X_test, y_test)"
   ]
  }
 ],
 "metadata": {
  "kernelspec": {
   "display_name": "Python 3",
   "language": "python",
   "name": "python3"
  },
  "language_info": {
   "codemirror_mode": {
    "name": "ipython",
    "version": 3
   },
   "file_extension": ".py",
   "mimetype": "text/x-python",
   "name": "python",
   "nbconvert_exporter": "python",
   "pygments_lexer": "ipython3",
   "version": "3.7.7"
  }
 },
 "nbformat": 4,
 "nbformat_minor": 2
}
