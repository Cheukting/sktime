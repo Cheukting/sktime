{
 "cells": [
  {
   "cell_type": "markdown",
   "metadata": {},
   "source": [
    "# Shapelets and the Shapelet Transform with sktime\n",
    "\n",
    "Introduced in [1], a shapelet is a time series subsequences that is identified as being representative of class membership. Shapelets are a powerful approach for measuring _phase-independent_ similarity between time series; they can occur at any point within a series and offer _interpretable_ results for how matches occur. The original research extracted shapelets to build a decision tree classifier. As an example, the top shapelet from the <a href=\"http://timeseriesclassification.com/description.php?Dataset=GunPoint\">GunPoint</a> problem found in [1] is shown below (the shapelet is highlighted in red):\n",
    "\n",
    "![shapelet gun point](img/shapelets_gun_point.PNG)\n",
    "\n",
    "The GunPoint problem contains univariate tracking data of actor's wrists as they either take a prop gun from a holster, point it, and return it to the holster, or they simply mime the action without the prop. The classification problem is to detect whether a motion trace is a case of _gun_ or _no gun_. The most discriminatory shapelet shown above offers an interpretable result into how classification decisions can be made; the highlighted red section of the series above is the shapelet and it occurs when an actor returns the gun to the holster. As explained in [1], this is discriminatory because if the gun prop is present then the actor's hand stops suddenly, but if the prop is not present, the actor's hand will not stop abruptly and will subtly continue past their waist due to inertia.\n",
    "\n",
    "## The Shapelet Transform\n",
    "\n",
    "Much research emphasis has been placed on shapelet-based approaches for time series classification (TSC) since the original research was proposed. The current state-of-the-art for shapelets is the **shapelet transform** (ST) [2, 3]. The transform improves upon the original use of shapelets by separating shapelet extraction from the classification algorithm, allowing interpretable phase-independent classification of time series with any standard classification algorithm (such as random/rotation forest, neural networks, nearest neighbour classifications, ensembles of all, etc.). To facilitate this, rather than recursively assessing data for the best shapelet, the transform evaluates candidate shapelets in a single procedure to rank them based on information gain. Then, given a set of _k_ shapelets, a time series can be transformed into _k_ features by calculating the distance from the series to each shapelet. By transforming a dataset in this manner any vector-based classification algorithm can be applied to a shapelet-transformed time series problem while the interpretability of shapelets is maintained through the ranked list of the _best_ shapelets during transformation. An example of the interpretability offered from ST is shown below with the top 10 shapelets extracted from the GunPoint problem in [2]:\n",
    "\n",
    "![shapelets gun point transform](img/shapelets_gun_point_transform.PNG)\n",
    "\n",
    "The image above demonstrates that there are two clear groupings of shapelets: one where the gun is placed into the holster, as in [1], but also one where the gun is removed from the holster. It would be a reasonable assumption that if placing the prob back into the holster is discriminatory then removing it from the holster should also be; this was not detected in the original research but is explicitly identified by using the shapelet transform.\n",
    "\n",
    "#### References\n",
    "[1] Ye, Lexiang, and Eamonn Keogh. \"Time series shapelets: a novel technique that allows accurate, interpretable and fast classification.\" Data mining and knowledge discovery 22, no. 1-2 (2011): 149-182.\n",
    "\n",
    "[2] Lines, Jason, Luke M. Davis, Jon Hills, and Anthony Bagnall. \"A shapelet transform for time series classification.\" In Proceedings of the 18th ACM SIGKDD international conference on Knowledge discovery and data mining, pp. 289-297. ACM, 2012.\n",
    "\n",
    "[3] Hills, Jon, Jason Lines, Edgaras Baranauskas, James Mapp, and Anthony Bagnall. \"Classification of time series by shapelet transformation.\" Data Mining and Knowledge Discovery 28, no. 4 (2014): 851-881.\n",
    "\n",
    "[4] Bostrom, Aaron, and Anthony Bagnall. \"Binary shapelet transform for multiclass time series classification.\" In Transactions on Large-Scale Data-and Knowledge-Centered Systems XXXII, pp. 24-46. Springer, Berlin, Heidelberg, 2017.\n",
    "\n",
    "## Example: The Shapelet Transform in sktime\n",
    "\n",
    "The following workbook demonstrates a full workflow of using the shapelet transform in `sktime` with a `scikit-learn` classifier with the GunPoint problem.\n",
    "\n"
   ]
  },
  {
   "cell_type": "code",
   "execution_count": 1,
   "metadata": {},
   "outputs": [],
   "source": [
    "from sktime.datasets import load_gunpoint\n",
    "from sktime.transformers.series_as_features.shapelets import ContractedShapeletTransform\n",
    "\n",
    "train_x, train_y = load_gunpoint(split='train', return_X_y=True)\n",
    "test_x, test_y = load_gunpoint(split='test', return_X_y=True)"
   ]
  },
  {
   "cell_type": "code",
   "execution_count": 2,
   "metadata": {},
   "outputs": [
    {
     "name": "stdout",
     "output_type": "stream",
     "text": [
      "visiting series: 24 (#1)\n",
      "Candidate finished. 00:29 remaining\n"
     ]
    },
    {
     "name": "stdout",
     "output_type": "stream",
     "text": [
      "Candidate finished. 00:29 remaining\n"
     ]
    },
    {
     "name": "stdout",
     "output_type": "stream",
     "text": [
      "Candidate finished. 00:28 remaining\n"
     ]
    },
    {
     "name": "stdout",
     "output_type": "stream",
     "text": [
      "Candidate finished. 00:27 remaining\n"
     ]
    },
    {
     "name": "stdout",
     "output_type": "stream",
     "text": [
      "Candidate finished. 00:27 remaining\n"
     ]
    },
    {
     "name": "stdout",
     "output_type": "stream",
     "text": [
      "Candidate finished. 00:26 remaining\n"
     ]
    },
    {
     "name": "stdout",
     "output_type": "stream",
     "text": [
      "Candidate finished. 00:26 remaining\n"
     ]
    },
    {
     "name": "stdout",
     "output_type": "stream",
     "text": [
      "Candidate finished. 00:25 remaining\n"
     ]
    },
    {
     "name": "stdout",
     "output_type": "stream",
     "text": [
      "Candidate finished. 00:24 remaining\n"
     ]
    },
    {
     "name": "stdout",
     "output_type": "stream",
     "text": [
      "Candidate finished. 00:24 remaining\n",
      "visiting series: 6 (#2)\n",
      "Candidate finished. 00:24 remaining\n"
     ]
    },
    {
     "name": "stdout",
     "output_type": "stream",
     "text": [
      "Candidate finished. 00:23 remaining\n"
     ]
    },
    {
     "name": "stdout",
     "output_type": "stream",
     "text": [
      "Candidate finished. 00:22 remaining\n"
     ]
    },
    {
     "name": "stdout",
     "output_type": "stream",
     "text": [
      "Candidate finished. 00:21 remaining\n"
     ]
    },
    {
     "name": "stdout",
     "output_type": "stream",
     "text": [
      "Candidate finished. 00:20 remaining\n"
     ]
    },
    {
     "name": "stdout",
     "output_type": "stream",
     "text": [
      "Candidate finished. 00:20 remaining\n"
     ]
    },
    {
     "name": "stdout",
     "output_type": "stream",
     "text": [
      "Candidate finished. 00:19 remaining\n",
      "Candidate finished. 00:19 remaining\n"
     ]
    },
    {
     "name": "stdout",
     "output_type": "stream",
     "text": [
      "Candidate finished. 00:18 remaining\n",
      "Candidate finished. 00:18 remaining\n",
      "visiting series: 35 (#3)\n",
      "Candidate finished. 00:18 remaining\n"
     ]
    },
    {
     "name": "stdout",
     "output_type": "stream",
     "text": [
      "Candidate finished. 00:17 remaining\n"
     ]
    },
    {
     "name": "stdout",
     "output_type": "stream",
     "text": [
      "Candidate finished. 00:16 remaining\n",
      "Candidate finished. 00:16 remaining\n"
     ]
    },
    {
     "name": "stdout",
     "output_type": "stream",
     "text": [
      "Candidate finished. 00:15 remaining\n",
      "Candidate finished. 00:15 remaining\n"
     ]
    },
    {
     "name": "stdout",
     "output_type": "stream",
     "text": [
      "Candidate finished. 00:14 remaining\n"
     ]
    },
    {
     "name": "stdout",
     "output_type": "stream",
     "text": [
      "Candidate finished. 00:13 remaining\n"
     ]
    },
    {
     "name": "stdout",
     "output_type": "stream",
     "text": [
      "Candidate rejected. 00:-16 remaining\n",
      "Candidate rejected. 00:-16 remaining\n",
      "visiting series: 19 (#4)\n"
     ]
    },
    {
     "name": "stdout",
     "output_type": "stream",
     "text": [
      "Candidate finished. 00:12 remaining\n"
     ]
    },
    {
     "name": "stdout",
     "output_type": "stream",
     "text": [
      "Candidate finished. 00:11 remaining\n",
      "Candidate finished. 00:11 remaining\n"
     ]
    },
    {
     "name": "stdout",
     "output_type": "stream",
     "text": [
      "Candidate finished. 00:11 remaining\n"
     ]
    },
    {
     "name": "stdout",
     "output_type": "stream",
     "text": [
      "Candidate finished. 00:10 remaining\n"
     ]
    },
    {
     "name": "stdout",
     "output_type": "stream",
     "text": [
      "Candidate finished. 00:09 remaining\n"
     ]
    },
    {
     "name": "stdout",
     "output_type": "stream",
     "text": [
      "Candidate finished. 00:09 remaining\n",
      "Candidate finished. 00:09 remaining\n"
     ]
    },
    {
     "name": "stdout",
     "output_type": "stream",
     "text": [
      "Candidate finished. 00:08 remaining\n"
     ]
    },
    {
     "name": "stdout",
     "output_type": "stream",
     "text": [
      "Candidate finished. 00:07 remaining\n",
      "visiting series: 10 (#5)\n"
     ]
    },
    {
     "name": "stdout",
     "output_type": "stream",
     "text": [
      "Candidate finished. 00:06 remaining\n"
     ]
    },
    {
     "name": "stdout",
     "output_type": "stream",
     "text": [
      "Candidate finished. 00:06 remaining\n"
     ]
    },
    {
     "name": "stdout",
     "output_type": "stream",
     "text": [
      "Candidate finished. 00:05 remaining\n"
     ]
    },
    {
     "name": "stdout",
     "output_type": "stream",
     "text": [
      "Candidate finished. 00:05 remaining\n",
      "Candidate finished. 00:04 remaining\n"
     ]
    },
    {
     "name": "stdout",
     "output_type": "stream",
     "text": [
      "Candidate finished. 00:04 remaining\n"
     ]
    },
    {
     "name": "stdout",
     "output_type": "stream",
     "text": [
      "Candidate finished. 00:03 remaining\n"
     ]
    },
    {
     "name": "stdout",
     "output_type": "stream",
     "text": [
      "Candidate finished. 00:03 remaining\n"
     ]
    },
    {
     "name": "stdout",
     "output_type": "stream",
     "text": [
      "Candidate finished. 00:02 remaining\n",
      "Candidate finished. 00:02 remaining\n",
      "visiting series: 39 (#6)\n"
     ]
    },
    {
     "name": "stdout",
     "output_type": "stream",
     "text": [
      "Candidate finished. 00:01 remaining\n"
     ]
    },
    {
     "name": "stdout",
     "output_type": "stream",
     "text": [
      "Candidate finished. 00:01 remaining\n"
     ]
    },
    {
     "name": "stdout",
     "output_type": "stream",
     "text": [
      "No more time available! It's been 00:29\n",
      "Stopping search\n"
     ]
    },
    {
     "data": {
      "text/plain": [
       "ContractedShapeletTransform(num_candidates_to_sample_per_case=10,\n",
       "                            random_state=RandomState(MT19937) at 0x10AC7F8D0,\n",
       "                            time_contract_in_mins=0.5, verbose=2)"
      ]
     },
     "execution_count": 2,
     "metadata": {},
     "output_type": "execute_result"
    }
   ],
   "source": [
    "# How long (in minutes) to extract shapelets for.\n",
    "# This is a simple lower-bound initially; once time is up, no further shapelets will be assessed\n",
    "time_contract_in_mins = 0.5\n",
    "\n",
    "# The initial number of shapelet candidates to assess per training series. If all series are visited\n",
    "# and time remains on the contract then another pass of the data will occur\n",
    "initial_num_shapelets_per_case = 10\n",
    "\n",
    "# Whether or not to print on-going information about shapelet extraction. Useful for demo/debugging\n",
    "verbose = 2\n",
    "\n",
    "st = ContractedShapeletTransform(\n",
    "    time_contract_in_mins=time_contract_in_mins,\n",
    "    num_candidates_to_sample_per_case=initial_num_shapelets_per_case,\n",
    "    verbose=verbose)\n",
    "st.fit(train_x, train_y)"
   ]
  },
  {
   "cell_type": "code",
   "execution_count": 3,
   "metadata": {},
   "outputs": [
    {
     "name": "stdout",
     "output_type": "stream",
     "text": [
      "Series ID: 24, start_pos: 34, length: 28, info_gain: 0.5940492290770935, \n"
     ]
    },
    {
     "data": {
      "image/png": "[encoded data removed]",
      "text/plain": [
       "<Figure size 432x288 with 1 Axes>"
      ]
     },
     "metadata": {
      "needs_background": "light"
     },
     "output_type": "display_data"
    },
    {
     "name": "stdout",
     "output_type": "stream",
     "text": [
      "Series ID: 35, start_pos: 86, length: 20, info_gain: 0.5619933844000846, \n"
     ]
    },
    {
     "data": {
      "image/png": "[encoded data removed]",
      "text/plain": [
       "<Figure size 432x288 with 1 Axes>"
      ]
     },
     "metadata": {
      "needs_background": "light"
     },
     "output_type": "display_data"
    },
    {
     "name": "stdout",
     "output_type": "stream",
     "text": [
      "Series ID: 10, start_pos: 60, length: 80, info_gain: 0.5426251505440987, \n"
     ]
    },
    {
     "data": {
      "image/png": "[encoded data removed]",
      "text/plain": [
       "<Figure size 432x288 with 1 Axes>"
      ]
     },
     "metadata": {
      "needs_background": "light"
     },
     "output_type": "display_data"
    },
    {
     "name": "stdout",
     "output_type": "stream",
     "text": [
      "Series ID: 6, start_pos: 45, length: 35, info_gain: 0.37690953619955225, \n"
     ]
    },
    {
     "data": {
      "image/png": "[encoded data removed]",
      "text/plain": [
       "<Figure size 432x288 with 1 Axes>"
      ]
     },
     "metadata": {
      "needs_background": "light"
     },
     "output_type": "display_data"
    },
    {
     "name": "stdout",
     "output_type": "stream",
     "text": [
      "Series ID: 19, start_pos: 3, length: 26, info_gain: 0.3582289761063985, \n"
     ]
    },
    {
     "data": {
      "image/png": "[encoded data removed]",
      "text/plain": [
       "<Figure size 432x288 with 1 Axes>"
      ]
     },
     "metadata": {
      "needs_background": "light"
     },
     "output_type": "display_data"
    }
   ],
   "source": [
    "%matplotlib inline\n",
    "import matplotlib.pyplot as plt\n",
    "\n",
    "# for each extracted shapelet (in descending order of quality/information gain)\n",
    "for s in st.shapelets[0:5]:\n",
    "\n",
    "    # summary info about the shapelet\n",
    "    print(s)\n",
    "\n",
    "    # plot the series that the shapelet was extracted from\n",
    "    plt.plot(\n",
    "        train_x.iloc[s.series_id,0],\n",
    "        'gray'\n",
    "    )\n",
    "\n",
    "    # overlay the shapelet onto the full series\n",
    "    plt.plot(\n",
    "        list(range(s.start_pos,(s.start_pos+s.length))),\n",
    "        train_x.iloc[s.series_id,0][s.start_pos:s.start_pos+s.length],\n",
    "        'r',\n",
    "        linewidth=3.0\n",
    "    )\n",
    "    plt.show()"
   ]
  },
  {
   "cell_type": "code",
   "execution_count": 4,
   "metadata": {},
   "outputs": [
    {
     "name": "stdout",
     "output_type": "stream",
     "text": [
      "#0: Series ID: 24, start_pos: 34, length: 28, info_gain: 0.5940492290770935, \n",
      "#1: Series ID: 35, start_pos: 86, length: 20, info_gain: 0.5619933844000846, \n",
      "#2: Series ID: 10, start_pos: 60, length: 80, info_gain: 0.5426251505440987, \n",
      "#3: Series ID: 6, start_pos: 45, length: 35, info_gain: 0.37690953619955225, \n",
      "#4: Series ID: 19, start_pos: 3, length: 26, info_gain: 0.3582289761063985, \n"
     ]
    },
    {
     "data": {
      "image/png": "[encoded data removed]",
      "text/plain": [
       "<Figure size 432x288 with 1 Axes>"
      ]
     },
     "metadata": {
      "needs_background": "light"
     },
     "output_type": "display_data"
    }
   ],
   "source": [
    "# for each extracted shapelet (in descending order of quality/information gain)\n",
    "for i in range(0,min(len(st.shapelets),5)):\n",
    "    s = st.shapelets[i]\n",
    "    # summary info about the shapelet\n",
    "    print(\"#\"+str(i)+\": \"+str(s))\n",
    "\n",
    "    # overlay shapelets\n",
    "    plt.plot(\n",
    "        list(range(s.start_pos,(s.start_pos+s.length))),\n",
    "        train_x.iloc[s.series_id,0][s.start_pos:s.start_pos+s.length]\n",
    "    )\n",
    "\n",
    "plt.show()"
   ]
  },
  {
   "cell_type": "code",
   "execution_count": 5,
   "metadata": {},
   "outputs": [
    {
     "name": "stdout",
     "output_type": "stream",
     "text": [
      "Results:\n",
      "Correct:\n",
      "\t150/150\n",
      "\t1.0\n",
      "\n",
      "Timing:\n",
      "\tTo build:   33.60533905029297 secs\n",
      "\tTo predict: 12.508907079696655 secs\n"
     ]
    }
   ],
   "source": [
    "import time\n",
    "from sktime.datasets import load_gunpoint\n",
    "from sklearn.ensemble.forest import RandomForestClassifier\n",
    "from sklearn.pipeline import Pipeline\n",
    "\n",
    "train_x, train_y = load_gunpoint(split='train', return_X_y=True)\n",
    "test_x, test_y = load_gunpoint(split='test', return_X_y=True)\n",
    "\n",
    "# example pipleine with 1 minute time limit\n",
    "pipeline = Pipeline([\n",
    "    ('st', ContractedShapeletTransform(time_contract_in_mins=time_contract_in_mins,\n",
    "                                       num_candidates_to_sample_per_case=10,\n",
    "                                       verbose=False)),\n",
    "    ('rf', RandomForestClassifier(n_estimators=100)),\n",
    "])\n",
    "\n",
    "start = time.time()\n",
    "pipeline.fit(train_x, train_y)\n",
    "end_build = time.time()\n",
    "preds = pipeline.predict(test_x)\n",
    "end_test = time.time()\n",
    "\n",
    "print(\"Results:\")\n",
    "print(\"Correct:\")\n",
    "correct = sum(preds == test_y)\n",
    "print(\"\\t\"+str(correct)+\"/\"+str(len(test_y)))\n",
    "print(\"\\t\"+str(correct/len(test_y)))\n",
    "print(\"\\nTiming:\")\n",
    "print(\"\\tTo build:   \"+str(end_build-start)+\" secs\")\n",
    "print(\"\\tTo predict: \"+str(end_test-end_build)+\" secs\")"
   ]
  }
 ],
 "metadata": {
  "@webio": {
   "lastCommId": null,
   "lastKernelId": null
  },
  "kernelspec": {
   "display_name": "Python 3",
   "language": "python",
   "name": "python3"
  },
  "language_info": {
   "codemirror_mode": {
    "name": "ipython",
    "version": 3
   },
   "file_extension": ".py",
   "mimetype": "text/x-python",
   "name": "python",
   "nbconvert_exporter": "python",
   "pygments_lexer": "ipython3",
   "version": "3.7.7"
  }
 },
 "nbformat": 4,
 "nbformat_minor": 1
}
